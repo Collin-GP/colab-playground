{
  "cells": [
    {
      "cell_type": "markdown",
      "metadata": {
        "id": "view-in-github",
        "colab_type": "text"
      },
      "source": [
        "<a href=\"https://colab.research.google.com/github/Collin-GP/colab-playground/blob/main/quickstarts/Search_Grounding.ipynb\" target=\"_parent\"><img src=\"https://colab.research.google.com/assets/colab-badge.svg\" alt=\"Open In Colab\"/></a>"
      ]
    },
    {
      "cell_type": "markdown",
      "metadata": {
        "id": "Tce3stUlHN0L"
      },
      "source": [
        "##### Copyright 2025 Google LLC."
      ]
    },
    {
      "cell_type": "code",
      "execution_count": null,
      "metadata": {
        "cellView": "form",
        "id": "tuOe1ymfHZPu"
      },
      "outputs": [],
      "source": [
        "#@title Licensed under the Apache License, Version 2.0 (the \"License\");\n",
        "# you may not use this file except in compliance with the License.\n",
        "# You may obtain a copy of the License at\n",
        "#\n",
        "# https://www.apache.org/licenses/LICENSE-2.0\n",
        "#\n",
        "# Unless required by applicable law or agreed to in writing, software\n",
        "# distributed under the License is distributed on an \"AS IS\" BASIS,\n",
        "# WITHOUT WARRANTIES OR CONDITIONS OF ANY KIND, either express or implied.\n",
        "# See the License for the specific language governing permissions and\n",
        "# limitations under the License."
      ]
    },
    {
      "cell_type": "markdown",
      "metadata": {
        "id": "Y_lgX9omPXF-"
      },
      "source": [
        "## Gemini 2.0 - Grounding using Search as a tool"
      ]
    },
    {
      "cell_type": "markdown",
      "metadata": {
        "id": "VkR4fWudrHCs"
      },
      "source": [
        "<a target=\"_blank\" href=\"https://colab.research.google.com/github/google-gemini/cookbook/blob/main/quickstarts/Search_Grounding.ipynb\"><img src=\"https://colab.research.google.com/assets/colab-badge.svg\" height=30/></a>"
      ]
    },
    {
      "cell_type": "markdown",
      "metadata": {
        "id": "WDKKNfXWrHgs"
      },
      "source": [
        "In this notebook you will learn how to use the new Google Search tool available in [Gemini 2.0](https://ai.google.dev/gemini-api/docs/models/gemini-v2), using both the unary API and the Multimodal Live API. Check out the docs to learn more about using [Search as a tool](https://ai.google.dev/gemini-api/docs/models/gemini-v2#search-tool).\n",
        "\n",
        "Note that the previous version of this guide using Gemini models priori to 2.0 and the legacy SDK can still be found [here](https://github.com/google-gemini/cookbook/blob/gemini-1.5-archive/quickstarts/Search_Grounding.ipynb)."
      ]
    },
    {
      "cell_type": "markdown",
      "metadata": {
        "id": "vKu1tRBrQ7xj"
      },
      "source": [
        "## Set up the SDK\n",
        "\n",
        "This guide uses the [`google-genai`](https://pypi.org/project/google-genai) Python SDK to connect to the Gemini 2.0 models."
      ]
    },
    {
      "cell_type": "markdown",
      "metadata": {
        "id": "vIWKUlPqP5NK"
      },
      "source": [
        "### Install SDK\n",
        "\n",
        "The new **[Google Gen AI SDK](https://github.com/googleapis/python-genai)** provides programmatic access to Gemini 2 (and previous models) using both the [Google AI for Developers](https://ai.google.dev/gemini-api/docs/models/gemini-v2) and [Vertex AI](https://cloud.google.com/vertex-ai/generative-ai/docs/overview) APIs. With a few exceptions, code that runs on one platform will run on both. This means that you can prototype an application using the Developer API and then migrate the application to Vertex AI without rewriting your code.\n",
        "\n",
        "More details about this new SDK on the [documentation](https://googleapis.github.io/python-genai/) or in the [Getting started](./Get_started.ipynb) notebook."
      ]
    },
    {
      "cell_type": "code",
      "execution_count": 1,
      "metadata": {
        "id": "6Fr84vJuPSHb",
        "outputId": "2ee9ff63-66f0-4448-d75d-dfe17e29cd04",
        "colab": {
          "base_uri": "https://localhost:8080/"
        }
      },
      "outputs": [
        {
          "output_type": "stream",
          "name": "stdout",
          "text": [
            "\u001b[2K     \u001b[90m━━━━━━━━━━━━━━━━━━━━━━━━━━━━━━━━━━━━━━━━\u001b[0m \u001b[32m40.5/40.5 kB\u001b[0m \u001b[31m1.2 MB/s\u001b[0m eta \u001b[36m0:00:00\u001b[0m\n",
            "\u001b[2K   \u001b[90m━━━━━━━━━━━━━━━━━━━━━━━━━━━━━━━━━━━━━━━━\u001b[0m \u001b[32m226.1/226.1 kB\u001b[0m \u001b[31m6.5 MB/s\u001b[0m eta \u001b[36m0:00:00\u001b[0m\n",
            "\u001b[?25h"
          ]
        }
      ],
      "source": [
        "%pip install -q -U \"google-genai>=1.0.0\""
      ]
    },
    {
      "cell_type": "markdown",
      "metadata": {
        "id": "a503bnWNQoCL"
      },
      "source": [
        "### Set up your API key\n",
        "\n",
        "To run the following cell, your API key must be stored it in a Colab Secret named `GOOGLE_API_KEY`. If you don't already have an API key, or you're not sure how to create a Colab Secret, see the [Authentication](https://github.com/google-gemini/gemini-api-cookbook/blob/main/quickstarts/Authentication.ipynb) quickstart for an example."
      ]
    },
    {
      "cell_type": "code",
      "execution_count": 3,
      "metadata": {
        "id": "RjvgYmdLQd5s"
      },
      "outputs": [],
      "source": [
        "import os\n",
        "from google.colab import userdata\n",
        "\n",
        "os.environ['GOOGLE_API_KEY'] = userdata.get('GOOGLE_API_KEY')"
      ]
    },
    {
      "cell_type": "markdown",
      "metadata": {
        "id": "VhKXgMSNQrrV"
      },
      "source": [
        "### Select model and initialize SDK client\n",
        "\n",
        "The client will pick up your API key from the environment variable.\n",
        "To use the live API you need to set the client version to `v1alpha` and use the Gemini 2.0 model.\n",
        "\n",
        "Now select the model you want to use in this guide, either by selecting one in the list or writing it down. Keep in mind that some models, like the 2.5 ones are thinking models and thus take slightly more time to respond (cf. [thinking notebook](./Get_started_thinking.ipynb) for more details and in particular learn how to switch the thiking off)."
      ]
    },
    {
      "cell_type": "code",
      "execution_count": 4,
      "metadata": {
        "id": "C75s1LR9QmOz"
      },
      "outputs": [],
      "source": [
        "from google import genai\n",
        "\n",
        "client = genai.Client() # the API is automatically loaded from the environement variable\n",
        "\n",
        "MODEL_ID = \"gemini-2.5-flash\" # @param [\"gemini-2.5-flash-lite-preview-06-17\",\"gemini-2.0-flash\",\"gemini-2.5-flash\",\"gemini-2.5-pro\"] {\"allow-input\":true, isTemplate: true}"
      ]
    },
    {
      "cell_type": "markdown",
      "metadata": {
        "id": "8mDMScex1It5"
      },
      "source": [
        "## Use Google Search\n",
        "Search grounding is particularly useful for queries that require current information or external knowledge. Using Google Search, Gemini can access nearly real-time information and better responses."
      ]
    },
    {
      "cell_type": "code",
      "execution_count": 8,
      "metadata": {
        "id": "FHIcazUO0-xU",
        "outputId": "f11c2735-180b-4f79-d9d0-a2f9d8a05d6e",
        "colab": {
          "base_uri": "https://localhost:8080/",
          "height": 1000
        }
      },
      "outputs": [
        {
          "output_type": "display_data",
          "data": {
            "text/plain": [
              "<IPython.core.display.Markdown object>"
            ],
            "text/markdown": "Response:\n To maximize your contact with voters for your 2025 Chicopee, MA school board campaign, consider attending a mix of official government meetings, recurring community gatherings, and annual events.\n\n**Official Meetings & Public Forums:**\n\n*   **Chicopee School Committee Meetings:** These are highly relevant as you're running for the school board. Meetings are typically held on a monthly basis during the school year, often on the second Wednesday evening of each month, though dates can be subject to change. They are usually held at the Chicopee City Hall Auditorium. You can find meeting notices and agendas on the city's calendar or the Chicopee Public Schools website. Some meetings may also offer a virtual (Zoom) participation option.\n*   **Chicopee City Council Meetings:** These meetings are held on the first and third Tuesday of every month, except for July and August when they meet only on the first Tuesday. They occur at the City Council Chambers, 4th floor, City Hall Annex, immediately following the Mayor's Briefing which begins at 6:30 PM. Attending these meetings will allow you to understand broader city issues and connect with residents interested in local government.\n*   **Other City Commission and Committee Meetings:** The city calendar lists various other meetings such as the Ambulance Commission, Housing Authority Board, Board of Assessors, and Water Resources Committee. Attending these can show your engagement with different aspects of city governance and community well-being.\n*   **Chicopee Public Library Events:** The library often hosts various community activities, including \"Genealogy Open Lab\" and \"Tech Goes Home\" courses. Their social media also serves as a limited public forum.\n\n**Recurring Community Events:**\n\n*   **Chicopee Center Fresh Farmers Market:** This market runs weekly on Thursdays from 1 PM to 6 PM, from June through October, at Lucy Wisniowski Park (32 Chestnut St, Chicopee). It features vendors selling vegetables, agricultural products, prepared foods, and crafts, and is a great place to meet a diverse group of residents.\n*   **Summer Band Concerts:** The Chicopee Parks & Recreation Department often hosts summer band concerts at the Aldenville Commons. For example, in 2025, there are concerts scheduled on various Tuesdays and Wednesdays in July and August.\n\n**Annual and Seasonal Events (based on past occurrences and 2025 projections):**\n\n*   **Memorial Day Parade:** Chicopee holds an annual Memorial Day Parade to honor fallen veterans.\n*   **Chicopee Patriotic Parade and Fireworks:** The city has hosted an annual Patriotic Parade followed by a fireworks display, typically in late June. The fireworks for 2025 are scheduled for Sunday, June 29, at 9:30 PM at Szot Park.\n*   **Chicopee Pride Festival:** The fifth annual Chicopee Pride Festival is scheduled for Saturday, June 14, 2025, from noon to 5 PM at Szot Park. This free event celebrates the LGBTQ+ community and features entertainment. A Pride Month flag raising event is also held at City Hall Flag Plaza on Friday, June 13, 2025.\n*   **Strawberry Festivals:** The Second Annual Strawberry Festival is planned for Saturday, June 14, 2025, from 12 PM to 5 PM at McKinstry Market Garden. It features craft vendors, live music, farm animals, and food.\n*   **Chicopee Irish Night:** This event, hosted by the Holyoke St. Patrick's Parade Committee, usually takes place in early March. In 2025, it's scheduled for Friday, March 7, at the Portuguese American Club. The committee also announces award recipients for the upcoming Holyoke St. Patrick's Parade in December, with a President's Dinner in February. The Holyoke St. Patrick's Parade itself, which Chicopee participates in, is scheduled for March 23, 2025.\n*   **Faded Barber Lounge Back to School Event:** This community event, focused on schools, is listed on the Chicopee Chamber of Commerce calendar for Sunday, August 24, 2025.\n*   **Hispanic Heritage Dominos Tournament:** Another event listed by the Chicopee Chamber of Commerce, scheduled for Saturday, August 23, 2025.\n*   **Chicopee Chamber of Commerce Events:** Beyond the specific events listed, the Chamber of Commerce calendar is a good resource for community and networking events, such as their 2025 Membership Appreciation event on Wednesday, July 16, 2025.\n*   **Walking Tours:** Various \"Chicopee Walking Tours\" covering themes like \"Arts & Industry\" and \"A Trip to Old Cabotville\" are sometimes offered, providing an opportunity to engage with residents interested in local history and culture.\n\n**General Strategies:**\n\n*   **Community Calendars:** Regularly check the \"City Events Calendar\" on the Chicopee, MA official website, the Chicopee Public Library's event calendar, the Chicopee Chamber of Commerce events calendar, and platforms like Eventbrite and AllEvents for upcoming activities.\n*   **Police Department Community Outreach:** The Chicopee Police Department also lists community outreach events they offer, such as \"Coffee with a Cop\" and \"Trunk or Treat\" (seasonal), which could provide informal opportunities for interaction.\n*   **Local Organizations and Cultural Groups:** Look for events hosted by specific community groups, cultural councils, or local associations that align with your interests and where you might find engaged voters. The Chicopee Cultural Council supports various arts and humanities projects in the community and holds monthly meetings.\n\nBy actively participating in these diverse events, you can connect with a broad range of Chicopee residents and gain a deeper understanding of their concerns and priorities as you campaign for the school board."
          },
          "metadata": {}
        },
        {
          "output_type": "stream",
          "name": "stdout",
          "text": [
            "Search Query: ['recurring community events Chicopee MA', 'annual festivals Chicopee MA', 'Chicopee MA parades', 'Chicopee MA farmers markets', 'Chicopee MA cultural events', 'Chicopee MA city council meetings', 'Chicopee MA school committee meetings', 'Chicopee MA public forums', 'Chicopee MA community calendar', 'Chicopee MA local events 2025']\n",
            "Search Pages: chicopeema.gov, chicopeeps.org, mass.edu, chicopeema.gov, chicopeetv.org, chicopeeps.org, chicopeema.gov, youtube.com, youtube.com, chicopeema.gov, patch.com, chicopeepubliclibrary.org, chicopeepubliclibrary.org, marketspread.com, buylocalfood.org, valleyopp.com, theq997.com, chicopeema.gov, chicopeema.gov, chicopeema.gov, chicopeema.gov, thereminder.com, macaronikid.com, allevents.in, holyokestpatricksparade.com, chicopeespc.com, thereminder.com, chicopeechamber.org, allevents.in, allevents.in, eventbrite.com, eventbrite.com, chicopeema.gov, allevents.in, eventbrite.com.au, chicopeema.gov, massculturalcouncil.org, meetup.com\n"
          ]
        },
        {
          "output_type": "display_data",
          "data": {
            "text/plain": [
              "<IPython.core.display.HTML object>"
            ],
            "text/html": [
              "<style>\n",
              ".container {\n",
              "  align-items: center;\n",
              "  border-radius: 8px;\n",
              "  display: flex;\n",
              "  font-family: Google Sans, Roboto, sans-serif;\n",
              "  font-size: 14px;\n",
              "  line-height: 20px;\n",
              "  padding: 8px 12px;\n",
              "}\n",
              ".chip {\n",
              "  display: inline-block;\n",
              "  border: solid 1px;\n",
              "  border-radius: 16px;\n",
              "  min-width: 14px;\n",
              "  padding: 5px 16px;\n",
              "  text-align: center;\n",
              "  user-select: none;\n",
              "  margin: 0 8px;\n",
              "  -webkit-tap-highlight-color: transparent;\n",
              "}\n",
              ".carousel {\n",
              "  overflow: auto;\n",
              "  scrollbar-width: none;\n",
              "  white-space: nowrap;\n",
              "  margin-right: -12px;\n",
              "}\n",
              ".headline {\n",
              "  display: flex;\n",
              "  margin-right: 4px;\n",
              "}\n",
              ".gradient-container {\n",
              "  position: relative;\n",
              "}\n",
              ".gradient {\n",
              "  position: absolute;\n",
              "  transform: translate(3px, -9px);\n",
              "  height: 36px;\n",
              "  width: 9px;\n",
              "}\n",
              "@media (prefers-color-scheme: light) {\n",
              "  .container {\n",
              "    background-color: #fafafa;\n",
              "    box-shadow: 0 0 0 1px #0000000f;\n",
              "  }\n",
              "  .headline-label {\n",
              "    color: #1f1f1f;\n",
              "  }\n",
              "  .chip {\n",
              "    background-color: #ffffff;\n",
              "    border-color: #d2d2d2;\n",
              "    color: #5e5e5e;\n",
              "    text-decoration: none;\n",
              "  }\n",
              "  .chip:hover {\n",
              "    background-color: #f2f2f2;\n",
              "  }\n",
              "  .chip:focus {\n",
              "    background-color: #f2f2f2;\n",
              "  }\n",
              "  .chip:active {\n",
              "    background-color: #d8d8d8;\n",
              "    border-color: #b6b6b6;\n",
              "  }\n",
              "  .logo-dark {\n",
              "    display: none;\n",
              "  }\n",
              "  .gradient {\n",
              "    background: linear-gradient(90deg, #fafafa 15%, #fafafa00 100%);\n",
              "  }\n",
              "}\n",
              "@media (prefers-color-scheme: dark) {\n",
              "  .container {\n",
              "    background-color: #1f1f1f;\n",
              "    box-shadow: 0 0 0 1px #ffffff26;\n",
              "  }\n",
              "  .headline-label {\n",
              "    color: #fff;\n",
              "  }\n",
              "  .chip {\n",
              "    background-color: #2c2c2c;\n",
              "    border-color: #3c4043;\n",
              "    color: #fff;\n",
              "    text-decoration: none;\n",
              "  }\n",
              "  .chip:hover {\n",
              "    background-color: #353536;\n",
              "  }\n",
              "  .chip:focus {\n",
              "    background-color: #353536;\n",
              "  }\n",
              "  .chip:active {\n",
              "    background-color: #464849;\n",
              "    border-color: #53575b;\n",
              "  }\n",
              "  .logo-light {\n",
              "    display: none;\n",
              "  }\n",
              "  .gradient {\n",
              "    background: linear-gradient(90deg, #1f1f1f 15%, #1f1f1f00 100%);\n",
              "  }\n",
              "}\n",
              "</style>\n",
              "<div class=\"container\">\n",
              "  <div class=\"headline\">\n",
              "    <svg class=\"logo-light\" width=\"18\" height=\"18\" viewBox=\"9 9 35 35\" fill=\"none\" xmlns=\"http://www.w3.org/2000/svg\">\n",
              "      <path fill-rule=\"evenodd\" clip-rule=\"evenodd\" d=\"M42.8622 27.0064C42.8622 25.7839 42.7525 24.6084 42.5487 23.4799H26.3109V30.1568H35.5897C35.1821 32.3041 33.9596 34.1222 32.1258 35.3448V39.6864H37.7213C40.9814 36.677 42.8622 32.2571 42.8622 27.0064V27.0064Z\" fill=\"#4285F4\"/>\n",
              "      <path fill-rule=\"evenodd\" clip-rule=\"evenodd\" d=\"M26.3109 43.8555C30.9659 43.8555 34.8687 42.3195 37.7213 39.6863L32.1258 35.3447C30.5898 36.3792 28.6306 37.0061 26.3109 37.0061C21.8282 37.0061 18.0195 33.9811 16.6559 29.906H10.9194V34.3573C13.7563 39.9841 19.5712 43.8555 26.3109 43.8555V43.8555Z\" fill=\"#34A853\"/>\n",
              "      <path fill-rule=\"evenodd\" clip-rule=\"evenodd\" d=\"M16.6559 29.8904C16.3111 28.8559 16.1074 27.7588 16.1074 26.6146C16.1074 25.4704 16.3111 24.3733 16.6559 23.3388V18.8875H10.9194C9.74388 21.2072 9.06992 23.8247 9.06992 26.6146C9.06992 29.4045 9.74388 32.022 10.9194 34.3417L15.3864 30.8621L16.6559 29.8904V29.8904Z\" fill=\"#FBBC05\"/>\n",
              "      <path fill-rule=\"evenodd\" clip-rule=\"evenodd\" d=\"M26.3109 16.2386C28.85 16.2386 31.107 17.1164 32.9095 18.8091L37.8466 13.8719C34.853 11.082 30.9659 9.3736 26.3109 9.3736C19.5712 9.3736 13.7563 13.245 10.9194 18.8875L16.6559 23.3388C18.0195 19.2636 21.8282 16.2386 26.3109 16.2386V16.2386Z\" fill=\"#EA4335\"/>\n",
              "    </svg>\n",
              "    <svg class=\"logo-dark\" width=\"18\" height=\"18\" viewBox=\"0 0 48 48\" xmlns=\"http://www.w3.org/2000/svg\">\n",
              "      <circle cx=\"24\" cy=\"23\" fill=\"#FFF\" r=\"22\"/>\n",
              "      <path d=\"M33.76 34.26c2.75-2.56 4.49-6.37 4.49-11.26 0-.89-.08-1.84-.29-3H24.01v5.99h8.03c-.4 2.02-1.5 3.56-3.07 4.56v.75l3.91 2.97h.88z\" fill=\"#4285F4\"/>\n",
              "      <path d=\"M15.58 25.77A8.845 8.845 0 0 0 24 31.86c1.92 0 3.62-.46 4.97-1.31l4.79 3.71C31.14 36.7 27.65 38 24 38c-5.93 0-11.01-3.4-13.45-8.36l.17-1.01 4.06-2.85h.8z\" fill=\"#34A853\"/>\n",
              "      <path d=\"M15.59 20.21a8.864 8.864 0 0 0 0 5.58l-5.03 3.86c-.98-2-1.53-4.25-1.53-6.64 0-2.39.55-4.64 1.53-6.64l1-.22 3.81 2.98.22 1.08z\" fill=\"#FBBC05\"/>\n",
              "      <path d=\"M24 14.14c2.11 0 4.02.75 5.52 1.98l4.36-4.36C31.22 9.43 27.81 8 24 8c-5.93 0-11.01 3.4-13.45 8.36l5.03 3.85A8.86 8.86 0 0 1 24 14.14z\" fill=\"#EA4335\"/>\n",
              "    </svg>\n",
              "    <div class=\"gradient-container\"><div class=\"gradient\"></div></div>\n",
              "  </div>\n",
              "  <div class=\"carousel\">\n",
              "    <a class=\"chip\" href=\"https://vertexaisearch.cloud.google.com/grounding-api-redirect/AUZIYQGTBCab7ieLc2pQIhZThTvp0KhNfpUr4pAHAFqq5wt8ajEqCKVIhS5YxTBGRfSvHwZviFUAG5cSnZWS0FTdsxbGJGmUifW0xsx2sR-NMlIPxjMcLJFc0kDlPIzDtVpAfGO7329dpxkTPV13zAyYoXByHhf87RyMkXAIJR2OR-DQPm9Pc9pQjJHl7q9Eh1RURc07vePcpHvPkQyd\">Chicopee MA public forums</a>\n",
              "    <a class=\"chip\" href=\"https://vertexaisearch.cloud.google.com/grounding-api-redirect/AUZIYQGHZQkhDFQWMktiO9mToPj-w43ChKFN2uX0m-TGlbnn22eYN7qG-lKxmng-B2NvE0LaSjVkd0ZZzmq4-1dnM8XFhAc-EXkSKLsH2ZIIXgwfjrtDsMzo4J0upBcU0WlxFPtSGo0x5z-E1U6H3JA5HGSPEglr-jVaU5afs0s6VCKEGHMwHTFhqyrumE_Yk1UdZ-tmKvq3BG4B63RtygS5ZnSRijA=\">Chicopee MA city council meetings</a>\n",
              "    <a class=\"chip\" href=\"https://vertexaisearch.cloud.google.com/grounding-api-redirect/AUZIYQFl1gI89jsujzJLDKa97Mk0G3OEp6ftsf3GAgKf263A3RLIpTx9IORBqXcgj4FKvhLFYQt5zp5W_WLoQ7V68Ko3DMYjyHtz3Y1N48xSaxX98VzmtGOmxVCo4EMJn9a7211RQKN2NnhOeEuYGhSgYGIJSTNIRcHHApUce59v1-BJx1P6MZiWT9aHQkCNFN4Su11fbRKvi3DV498laBiF\">annual festivals Chicopee MA</a>\n",
              "    <a class=\"chip\" href=\"https://vertexaisearch.cloud.google.com/grounding-api-redirect/AUZIYQFzjLZ3riWhv6FsUdQ7NmupILrwYiPKJljNXTARmRjM6zCMKFmVXOEs-y-0uc9xU6fTD8Sk37dCPJ5ABIioiDV9CHY4hAEBbva3-TCbAfj-WZyMLAOATX5TqHr2xm0L-GTl783xSxGHNNWOfYQkYuCL1FxrZgaLS5Q2TYkD0tzjyHTD2qb4m71nH_Ioxl0HKgkNGaZCq_Ss24quhIkuO-pISEpXE1zjug==\">recurring community events Chicopee MA</a>\n",
              "    <a class=\"chip\" href=\"https://vertexaisearch.cloud.google.com/grounding-api-redirect/AUZIYQGcWqPWGhxI7PIHKIkB_-lh8UrnVDcogKXb0_3JM0eg2kpNV0ve3FJrTJRfgtFGKYfZKNB4J93Bt5fDuK5knGdxjxMj1RssfNiSC7-yGnTeId5nLLG9iPg7RiaQboQup5ep15_OxGHl3QJ89UAqKLKNftuVNJ9PrUYLIJ_0m7seYjDTXg5lsdvvspt9EZ08GC-5boeS\">Chicopee MA parades</a>\n",
              "    <a class=\"chip\" href=\"https://vertexaisearch.cloud.google.com/grounding-api-redirect/AUZIYQGVpS1rQUL2tJ6_2Q39EAmvmGBLsFaoOPYR0CsuFaVtnMDMmAetaPNhvuoftFyYaijPJyLN17MLc4XqijZBc0qxoKMCmTdZrBPc_btLn0C0JU7USdjZRswflC6K0Uy3nKTq7o-PCipX9GLpXFpQUzUkXLl1xwrAF9yiDI9UU7bVovXIAE6yFNK3OIi7VmQrS_4CfyzH6KqF74RJQaU7eEmav_AhURou\">Chicopee MA school committee meetings</a>\n",
              "    <a class=\"chip\" href=\"https://vertexaisearch.cloud.google.com/grounding-api-redirect/AUZIYQGHEr3qTU5E3YLuV9cgNglBpm6Z_kDWMkXKWNC7hpLP4NdI589lujCNsZ4wwJGIsExgrgPdYkFT_CQDtHiCS6JDxM-rIA0eIf9-yNhXx7Y3gIhhOQxYeI_j0jOR8ziE_sF5PfPr-FyDjx_qZzG0cM-b7LD5mclAhy5PTrz61GV0QQ85KGC2k5_tTiUFHic53rszXY4f9Imm9PCKSqY=\">Chicopee MA cultural events</a>\n",
              "    <a class=\"chip\" href=\"https://vertexaisearch.cloud.google.com/grounding-api-redirect/AUZIYQEdOVF9Zvs9e9DNZ19qQ3BNq9RTzv_qNkns4gcIc7IFxA2F-JG8sRKrNEACc2PZ_Qs0oPeREC3JIB_kihU2fPvGfGjooO1g0-fkeniJZ3pM-qbT3GeHNRSamKm3t9cryyriFMbp1CWE6JLefOzVibDXd_E71MhAq5YJZxYbMZS7DNtLjEw29mlmeK-tpCmwnUbrGSgjP8F4vDg0VEc=\">Chicopee MA farmers markets</a>\n",
              "    <a class=\"chip\" href=\"https://vertexaisearch.cloud.google.com/grounding-api-redirect/AUZIYQGAI5sHKQVP98eH6UPg1hn63McQkEKUTj_QTI8pOiAiYMhMcA86XiFi2YA2dCG263jnBq8pCpCLDMtTQsljGakDGcrOT-1earejYYJ4NESXw7dckjPGE4WIcBHx79Nn6ctdKT06M4V70Vu4mWzSZQffcl1oE58Pm59xtPBUCrQGIFZwH8heSJwxB-5-_rPmXp1Rf1-COv2h3Cgx2zkc6R8=\">Chicopee MA community calendar</a>\n",
              "    <a class=\"chip\" href=\"https://vertexaisearch.cloud.google.com/grounding-api-redirect/AUZIYQFr8W11vbzqfvC20fqeQyGKyDfeSLc4hAoBUp_GzWTX9gYWYg7ftfLaQ5x74n-ElITVroL2o9GYt6XzooKWTXos28aP3y0WDIwjY9COrLg53O8KNxngRXJv8Xftv0ncUF0vaFlZeD_poXvUVDYPiHgxhqd6xrxdbgmUy_ro3TFeWnxx78hCocEBlYaOMzC3Kw6lVvP4FfPuUUtvq93C1w==\">Chicopee MA local events 2025</a>\n",
              "  </div>\n",
              "</div>\n"
            ]
          },
          "metadata": {}
        }
      ],
      "source": [
        "from IPython.display import HTML, Markdown\n",
        "\n",
        "response = client.models.generate_content(\n",
        "    model=MODEL_ID,\n",
        "    contents='I am running for the chicopee ma school board in 2025, what community events can i attend to maximize my contact with my voters?',\n",
        "    config={\"tools\": [{\"google_search\": {}}]},\n",
        ")\n",
        "\n",
        "# print the response\n",
        "display(Markdown(f\"Response:\\n {response.text}\"))\n",
        "# print the search details\n",
        "print(f\"Search Query: {response.candidates[0].grounding_metadata.web_search_queries}\")\n",
        "# urls used for grounding\n",
        "print(f\"Search Pages: {', '.join([site.web.title for site in response.candidates[0].grounding_metadata.grounding_chunks])}\")\n",
        "\n",
        "display(HTML(response.candidates[0].grounding_metadata.search_entry_point.rendered_content))"
      ]
    },
    {
      "cell_type": "markdown",
      "metadata": {
        "id": "wROLHEYLLBHX"
      },
      "source": [
        "The information provided may be outdated, as it is based on a knowledge cutoff. For the most current and authoritative details, please refer to the official [Model documentation](https://ai.google.dev/gemini-api/docs/models#gemini-2.5-pro), which includes the latest knowledge cutoff date.\n",
        "\n",
        "You can see that running the same prompt without search grounding gives you outdated information:"
      ]
    },
    {
      "cell_type": "code",
      "execution_count": 10,
      "metadata": {
        "id": "EdUkQ40cKaGX",
        "outputId": "30f73c6b-4c47-4737-aeb5-f9645df308b0",
        "colab": {
          "base_uri": "https://localhost:8080/",
          "height": 591
        }
      },
      "outputs": [
        {
          "output_type": "display_data",
          "data": {
            "text/plain": [
              "<IPython.core.display.Markdown object>"
            ],
            "text/markdown": "Response:\n Massachusetts offers \"no-excuse\" early voting by mail for most local, state, and federal elections. While the exact dates for Chicopee's 2025 school board election primaries (if any) and the general election aren't explicitly listed, the information available provides a general framework for mail-in voting in Massachusetts.\n\nHere's what you need to know for the Chicopee, MA School Board election in 2025:\n\n**Mail-in Ballot Application Deadlines:**\n*   Your application for a mail-in ballot must reach your local election officials by 5 p.m. on the 5th business day before the election.\n*   For the General Municipal Election on Tuesday, November 4, 2025, the voter registration deadline is Saturday, October 25, 2025.\n\n**Mail-in Ballot Return Deadlines:**\n*   For most elections in Massachusetts, including municipal elections, your completed mail-in ballot must be received by your local election office or a drop box by 8:00 PM on Election Day to be counted.\n*   The only exception is for the biennial state election in November, where ballots postmarked by Election Day have an additional three days to arrive. However, the school board election would fall under municipal elections, so the Election Day receipt deadline generally applies.\n\n**Important Considerations:**\n*   **Chicopee Specifics:** While state laws govern much of the mail-in ballot process, the specific dates for Chicopee's school board election (including any potential primary) will be set locally. It is crucial to confirm these dates with the Chicopee Registrar of Voters. You can find their contact information and a calendar of important dates on the City of Chicopee website.\n*   **Receiving an Application:** The state will send a pre-addressed, postage-paid Vote by Mail application to every registered voter before each statewide election, typically 45 days beforehand. For local elections, like a school board election, you may need to proactively request an application.\n*   **Applying for Your Ballot:** You can request your mail-in ballot online, by mail, or by email or fax. You can apply for mail-in ballots for all elections in a calendar year with a single application.\n*   **Tracking Your Ballot:** You can track the status of your mail-in ballot through the state's website. This tool shows when your application was received, when your ballot was mailed, and when your completed ballot was received.\n*   **Voting in Person:** If you apply to vote by mail but your ballot is not received, you can still vote in person on Election Day or at an early voting location. Measures are in place to prevent a ballot from being counted twice."
          },
          "metadata": {}
        },
        {
          "output_type": "stream",
          "name": "stdout",
          "text": [
            "Search Query: ['chicopee ma school board election 2025 mail-in ballot dates', 'Massachusetts mail-in ballot deadlines 2025', 'Chicopee MA election calendar 2025']\n",
            "Search Pages: watertown-ma.gov, sec.state.ma.us, vote411.org, brooklinema.gov, boston.gov, sec.state.ma.us, chicopeema.gov, chicopeema.gov, vote411.org\n"
          ]
        },
        {
          "output_type": "display_data",
          "data": {
            "text/plain": [
              "<IPython.core.display.HTML object>"
            ],
            "text/html": [
              "<style>\n",
              ".container {\n",
              "  align-items: center;\n",
              "  border-radius: 8px;\n",
              "  display: flex;\n",
              "  font-family: Google Sans, Roboto, sans-serif;\n",
              "  font-size: 14px;\n",
              "  line-height: 20px;\n",
              "  padding: 8px 12px;\n",
              "}\n",
              ".chip {\n",
              "  display: inline-block;\n",
              "  border: solid 1px;\n",
              "  border-radius: 16px;\n",
              "  min-width: 14px;\n",
              "  padding: 5px 16px;\n",
              "  text-align: center;\n",
              "  user-select: none;\n",
              "  margin: 0 8px;\n",
              "  -webkit-tap-highlight-color: transparent;\n",
              "}\n",
              ".carousel {\n",
              "  overflow: auto;\n",
              "  scrollbar-width: none;\n",
              "  white-space: nowrap;\n",
              "  margin-right: -12px;\n",
              "}\n",
              ".headline {\n",
              "  display: flex;\n",
              "  margin-right: 4px;\n",
              "}\n",
              ".gradient-container {\n",
              "  position: relative;\n",
              "}\n",
              ".gradient {\n",
              "  position: absolute;\n",
              "  transform: translate(3px, -9px);\n",
              "  height: 36px;\n",
              "  width: 9px;\n",
              "}\n",
              "@media (prefers-color-scheme: light) {\n",
              "  .container {\n",
              "    background-color: #fafafa;\n",
              "    box-shadow: 0 0 0 1px #0000000f;\n",
              "  }\n",
              "  .headline-label {\n",
              "    color: #1f1f1f;\n",
              "  }\n",
              "  .chip {\n",
              "    background-color: #ffffff;\n",
              "    border-color: #d2d2d2;\n",
              "    color: #5e5e5e;\n",
              "    text-decoration: none;\n",
              "  }\n",
              "  .chip:hover {\n",
              "    background-color: #f2f2f2;\n",
              "  }\n",
              "  .chip:focus {\n",
              "    background-color: #f2f2f2;\n",
              "  }\n",
              "  .chip:active {\n",
              "    background-color: #d8d8d8;\n",
              "    border-color: #b6b6b6;\n",
              "  }\n",
              "  .logo-dark {\n",
              "    display: none;\n",
              "  }\n",
              "  .gradient {\n",
              "    background: linear-gradient(90deg, #fafafa 15%, #fafafa00 100%);\n",
              "  }\n",
              "}\n",
              "@media (prefers-color-scheme: dark) {\n",
              "  .container {\n",
              "    background-color: #1f1f1f;\n",
              "    box-shadow: 0 0 0 1px #ffffff26;\n",
              "  }\n",
              "  .headline-label {\n",
              "    color: #fff;\n",
              "  }\n",
              "  .chip {\n",
              "    background-color: #2c2c2c;\n",
              "    border-color: #3c4043;\n",
              "    color: #fff;\n",
              "    text-decoration: none;\n",
              "  }\n",
              "  .chip:hover {\n",
              "    background-color: #353536;\n",
              "  }\n",
              "  .chip:focus {\n",
              "    background-color: #353536;\n",
              "  }\n",
              "  .chip:active {\n",
              "    background-color: #464849;\n",
              "    border-color: #53575b;\n",
              "  }\n",
              "  .logo-light {\n",
              "    display: none;\n",
              "  }\n",
              "  .gradient {\n",
              "    background: linear-gradient(90deg, #1f1f1f 15%, #1f1f1f00 100%);\n",
              "  }\n",
              "}\n",
              "</style>\n",
              "<div class=\"container\">\n",
              "  <div class=\"headline\">\n",
              "    <svg class=\"logo-light\" width=\"18\" height=\"18\" viewBox=\"9 9 35 35\" fill=\"none\" xmlns=\"http://www.w3.org/2000/svg\">\n",
              "      <path fill-rule=\"evenodd\" clip-rule=\"evenodd\" d=\"M42.8622 27.0064C42.8622 25.7839 42.7525 24.6084 42.5487 23.4799H26.3109V30.1568H35.5897C35.1821 32.3041 33.9596 34.1222 32.1258 35.3448V39.6864H37.7213C40.9814 36.677 42.8622 32.2571 42.8622 27.0064V27.0064Z\" fill=\"#4285F4\"/>\n",
              "      <path fill-rule=\"evenodd\" clip-rule=\"evenodd\" d=\"M26.3109 43.8555C30.9659 43.8555 34.8687 42.3195 37.7213 39.6863L32.1258 35.3447C30.5898 36.3792 28.6306 37.0061 26.3109 37.0061C21.8282 37.0061 18.0195 33.9811 16.6559 29.906H10.9194V34.3573C13.7563 39.9841 19.5712 43.8555 26.3109 43.8555V43.8555Z\" fill=\"#34A853\"/>\n",
              "      <path fill-rule=\"evenodd\" clip-rule=\"evenodd\" d=\"M16.6559 29.8904C16.3111 28.8559 16.1074 27.7588 16.1074 26.6146C16.1074 25.4704 16.3111 24.3733 16.6559 23.3388V18.8875H10.9194C9.74388 21.2072 9.06992 23.8247 9.06992 26.6146C9.06992 29.4045 9.74388 32.022 10.9194 34.3417L15.3864 30.8621L16.6559 29.8904V29.8904Z\" fill=\"#FBBC05\"/>\n",
              "      <path fill-rule=\"evenodd\" clip-rule=\"evenodd\" d=\"M26.3109 16.2386C28.85 16.2386 31.107 17.1164 32.9095 18.8091L37.8466 13.8719C34.853 11.082 30.9659 9.3736 26.3109 9.3736C19.5712 9.3736 13.7563 13.245 10.9194 18.8875L16.6559 23.3388C18.0195 19.2636 21.8282 16.2386 26.3109 16.2386V16.2386Z\" fill=\"#EA4335\"/>\n",
              "    </svg>\n",
              "    <svg class=\"logo-dark\" width=\"18\" height=\"18\" viewBox=\"0 0 48 48\" xmlns=\"http://www.w3.org/2000/svg\">\n",
              "      <circle cx=\"24\" cy=\"23\" fill=\"#FFF\" r=\"22\"/>\n",
              "      <path d=\"M33.76 34.26c2.75-2.56 4.49-6.37 4.49-11.26 0-.89-.08-1.84-.29-3H24.01v5.99h8.03c-.4 2.02-1.5 3.56-3.07 4.56v.75l3.91 2.97h.88z\" fill=\"#4285F4\"/>\n",
              "      <path d=\"M15.58 25.77A8.845 8.845 0 0 0 24 31.86c1.92 0 3.62-.46 4.97-1.31l4.79 3.71C31.14 36.7 27.65 38 24 38c-5.93 0-11.01-3.4-13.45-8.36l.17-1.01 4.06-2.85h.8z\" fill=\"#34A853\"/>\n",
              "      <path d=\"M15.59 20.21a8.864 8.864 0 0 0 0 5.58l-5.03 3.86c-.98-2-1.53-4.25-1.53-6.64 0-2.39.55-4.64 1.53-6.64l1-.22 3.81 2.98.22 1.08z\" fill=\"#FBBC05\"/>\n",
              "      <path d=\"M24 14.14c2.11 0 4.02.75 5.52 1.98l4.36-4.36C31.22 9.43 27.81 8 24 8c-5.93 0-11.01 3.4-13.45 8.36l5.03 3.85A8.86 8.86 0 0 1 24 14.14z\" fill=\"#EA4335\"/>\n",
              "    </svg>\n",
              "    <div class=\"gradient-container\"><div class=\"gradient\"></div></div>\n",
              "  </div>\n",
              "  <div class=\"carousel\">\n",
              "    <a class=\"chip\" href=\"https://vertexaisearch.cloud.google.com/grounding-api-redirect/AUZIYQHyabz_wOtTQnbRKLvHidNGLOH8AHrDZXjQhhxFknG_P-sp7aoPV8SR335S4NkbV_i6dAsifEYKInldspsbnGW1rlTSE7KSYuBYCBaBTOqIs7Nvr_-oZ8vZlBOxW0oGb4S5ptrwkcMevaAp0wr8LBn3HUACPUZTJZULYM7j4waO-J1Tnym9z53VbEM0yYJWpvBooC4NWcIFncFDvizilUySf5Sja4o2MRx4Motrrw==\">Massachusetts mail-in ballot deadlines 2025</a>\n",
              "    <a class=\"chip\" href=\"https://vertexaisearch.cloud.google.com/grounding-api-redirect/AUZIYQG1gkoMpHIkfzrvTR5rG6vL2-iWMkm4k-kIDPsUaHMQQkGIehpGmSKrpIkUhvQg-GCsu8xJkt69cpQjS0Czk6Di9IMoy7XaNgDa4iGLVvZTDZq0ydBADThvIH_GkEwGzHfVzzHpiDgI598Grm1GShstfrgwwNrThlBFUdD6oO_Ab21a9b6OwSYHpSOxBvaLfDTiMkaqV21lBaMwPqnrztNPFbCj9pU9ljv51LT_4MI6fare4nlSqKwo7GkfD4-t\">chicopee ma school board election 2025 mail-in ballot dates</a>\n",
              "    <a class=\"chip\" href=\"https://vertexaisearch.cloud.google.com/grounding-api-redirect/AUZIYQF51n6s7ECnKGhzsvayO4Kw6xOwzO4lWdgv4Hw1jplNuQotugI0LYKgnERR98FanGROQ5muWY8Vf3jDb1GQOi5MjFC2a-aJ7XsIK0TDKYyzKpJ398UHdkGxPWXWSoddcNpy6-JY3tUIIE8JvaBQMx4devqLwswEBFjAj1I-Y-wtDT0-_GGzinn0O0IYxYwnBkbUb0_LTFamJiwsl_XsZnfNrPE-dA==\">Chicopee MA election calendar 2025</a>\n",
              "  </div>\n",
              "</div>\n"
            ]
          },
          "metadata": {}
        }
      ],
      "source": [
        "from IPython.display import HTML, Markdown\n",
        "\n",
        "response = client.models.generate_content(\n",
        "    model=MODEL_ID,\n",
        "    contents='I am running for the chicopee ma school board in 2025, when does mail in ballot open and close? consider primary and general elections if applicable',\n",
        "    config={\"tools\": [{\"google_search\": {}}]},\n",
        ")\n",
        "\n",
        "# print the response\n",
        "display(Markdown(f\"Response:\\n {response.text}\"))\n",
        "# print the search details\n",
        "print(f\"Search Query: {response.candidates[0].grounding_metadata.web_search_queries}\")\n",
        "# urls used for grounding\n",
        "print(f\"Search Pages: {', '.join([site.web.title for site in response.candidates[0].grounding_metadata.grounding_chunks])}\")\n",
        "\n",
        "display(HTML(response.candidates[0].grounding_metadata.search_entry_point.rendered_content))"
      ]
    }
  ],
  "metadata": {
    "colab": {
      "collapsed_sections": [
        "Tce3stUlHN0L"
      ],
      "name": "Search_Grounding.ipynb",
      "provenance": [],
      "include_colab_link": true
    },
    "kernelspec": {
      "display_name": "Python 3",
      "name": "python3"
    }
  },
  "nbformat": 4,
  "nbformat_minor": 0
}